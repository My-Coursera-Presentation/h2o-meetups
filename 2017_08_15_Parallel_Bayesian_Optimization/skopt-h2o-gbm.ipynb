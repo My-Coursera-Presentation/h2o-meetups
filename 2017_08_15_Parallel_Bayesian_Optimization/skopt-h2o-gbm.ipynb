{
 "cells": [
  {
   "cell_type": "code",
   "execution_count": 1,
   "metadata": {
    "collapsed": true
   },
   "outputs": [],
   "source": [
    "import h2o"
   ]
  },
  {
   "cell_type": "markdown",
   "metadata": {},
   "source": [
    "# Tuning Hyperparameters with Parallel Bayesian Optimization\n",
    "\n",
    "*Kejia Shi, Aug 7, 2017*\n",
    "\n",
    "This notebook demonstrates steps and results of using parallel Bayesian optimization to tune hyperparameters of a \"real-life\" GBM application. (Using `Boston` dataset) The main model is built using `h2o-3` and the optimization of hyperparameters is realized with `scikit-optimize`. Workflow mainly borrows from `scikit-optimize`."
   ]
  },
  {
   "cell_type": "markdown",
   "metadata": {},
   "source": [
    "### References\n",
    "\n",
    "1. `h2o` 3.14 GBM documentation: http://docs.h2o.ai/h2o/latest-stable/h2o-docs/data-science/gbm.html\n",
    "2. `scikit-optimize` 0.4 documentation: https://scikit-optimize.github.io, \n",
    "Hyperparameter optimization https://github.com/scikit-optimize/scikit-optimize/blob/master/examples/hyperparameter-optimization.ipynb\n",
    "3. Boston Dataset: http://www.cs.toronto.edu/~delve/data/boston/bostonDetail.html"
   ]
  },
  {
   "cell_type": "markdown",
   "metadata": {},
   "source": [
    "## Settings\n",
    "\n",
    "**Dataset:** The Boston Housing Dataset\n",
    "\n",
    "This dataset contains information collected by the U.S Census Service concerning housing in the area of Boston Mass. It has been used extensively throughout the literature to benchmark algorithms. The dataset is small in size with only 506 cases and 14 attributes in each case of the dataset.\n",
    "\n",
    "**Features:**\n",
    "\n",
    "'CRIM': per capita crime rate by town\n",
    "\n",
    "'ZN': proportion of residential land zoned for lots over 25,000 sq.ft\n",
    "\n",
    "'INDUS': proportion of non-retail business acres per town\n",
    "\n",
    "'CHAS': Charles River dummy variable (1 if tract bounds river; 0 otherwise)\n",
    "\n",
    "'NOX': nitric oxides concentration (parts per 10 million)\n",
    "\n",
    "'RM': average number of rooms per dwelling\n",
    "\n",
    "'AGE': proportion of owner-occupied units built prior to 1940\n",
    "\n",
    "'DIS': weighted distances to five Boston employment centres\n",
    "\n",
    "'RAD': index of accessibility to radial highways\n",
    "\n",
    "'TAX': full-value property-tax rate per $10,000\n",
    "\n",
    "'PTRATIO': pupil-teacher ratio by town\n",
    "\n",
    "'B': 1000(Bk - 0.63)^2 where Bk is the proportion of blacks by town\n",
    "\n",
    "'LSTAT': \\% lower status of the population\n",
    "\n",
    "'MEDV': Median value of owner-occupied homes in $1000's, censored at 50.00\n",
    "\n",
    "**Model:**\n",
    "\n",
    "Gradient Boosting Regression"
   ]
  },
  {
   "cell_type": "markdown",
   "metadata": {},
   "source": [
    "## Load Dataset"
   ]
  },
  {
   "cell_type": "code",
   "execution_count": 2,
   "metadata": {
    "collapsed": false
   },
   "outputs": [
    {
     "name": "stdout",
     "output_type": "stream",
     "text": [
      "Checking whether there is an H2O instance running at http://localhost:54321..... not found.\n",
      "Attempting to start a local H2O server...\n",
      "  Java Version: java version \"1.8.0_77\"; Java(TM) SE Runtime Environment (build 1.8.0_77-b03); Java HotSpot(TM) 64-Bit Server VM (build 25.77-b03, mixed mode)\n",
      "  Starting server from /anaconda/lib/python2.7/site-packages/h2o/backend/bin/h2o.jar\n",
      "  Ice root: /var/folders/ly/_ltwkx7n73q9s1xfz8720mvc0000gn/T/tmpD5TNCl\n",
      "  JVM stdout: /var/folders/ly/_ltwkx7n73q9s1xfz8720mvc0000gn/T/tmpD5TNCl/h2o_KJ_started_from_python.out\n",
      "  JVM stderr: /var/folders/ly/_ltwkx7n73q9s1xfz8720mvc0000gn/T/tmpD5TNCl/h2o_KJ_started_from_python.err\n",
      "  Server is running at http://127.0.0.1:54321\n",
      "Connecting to H2O server at http://127.0.0.1:54321... successful.\n"
     ]
    },
    {
     "data": {
      "text/html": [
       "<div style=\"overflow:auto\"><table style=\"width:50%\"><tr><td>H2O cluster uptime:</td>\n",
       "<td>02 secs</td></tr>\n",
       "<tr><td>H2O cluster version:</td>\n",
       "<td>3.13.0.3981</td></tr>\n",
       "<tr><td>H2O cluster version age:</td>\n",
       "<td>8 days </td></tr>\n",
       "<tr><td>H2O cluster name:</td>\n",
       "<td>H2O_from_python_KJ_gupw1x</td></tr>\n",
       "<tr><td>H2O cluster total nodes:</td>\n",
       "<td>1</td></tr>\n",
       "<tr><td>H2O cluster free memory:</td>\n",
       "<td>3.556 Gb</td></tr>\n",
       "<tr><td>H2O cluster total cores:</td>\n",
       "<td>8</td></tr>\n",
       "<tr><td>H2O cluster allowed cores:</td>\n",
       "<td>8</td></tr>\n",
       "<tr><td>H2O cluster status:</td>\n",
       "<td>accepting new members, healthy</td></tr>\n",
       "<tr><td>H2O connection url:</td>\n",
       "<td>http://127.0.0.1:54321</td></tr>\n",
       "<tr><td>H2O connection proxy:</td>\n",
       "<td>None</td></tr>\n",
       "<tr><td>H2O internal security:</td>\n",
       "<td>False</td></tr>\n",
       "<tr><td>H2O API Extensions:</td>\n",
       "<td>XGBoost, Algos, AutoML, Core V3, Core V4</td></tr>\n",
       "<tr><td>Python version:</td>\n",
       "<td>2.7.13 final</td></tr></table></div>"
      ],
      "text/plain": [
       "--------------------------  ----------------------------------------\n",
       "H2O cluster uptime:         02 secs\n",
       "H2O cluster version:        3.13.0.3981\n",
       "H2O cluster version age:    8 days\n",
       "H2O cluster name:           H2O_from_python_KJ_gupw1x\n",
       "H2O cluster total nodes:    1\n",
       "H2O cluster free memory:    3.556 Gb\n",
       "H2O cluster total cores:    8\n",
       "H2O cluster allowed cores:  8\n",
       "H2O cluster status:         accepting new members, healthy\n",
       "H2O connection url:         http://127.0.0.1:54321\n",
       "H2O connection proxy:\n",
       "H2O internal security:      False\n",
       "H2O API Extensions:         XGBoost, Algos, AutoML, Core V3, Core V4\n",
       "Python version:             2.7.13 final\n",
       "--------------------------  ----------------------------------------"
      ]
     },
     "metadata": {},
     "output_type": "display_data"
    }
   ],
   "source": [
    "h2o.init(strict_version_check=False)"
   ]
  },
  {
   "cell_type": "code",
   "execution_count": 3,
   "metadata": {
    "collapsed": false
   },
   "outputs": [
    {
     "name": "stdout",
     "output_type": "stream",
     "text": [
      "Parse progress: |█████████████████████████████████████████████████████████| 100%\n"
     ]
    }
   ],
   "source": [
    "boston_data = h2o.import_file(path=\"https://s3.amazonaws.com/h2o-public-test-data/smalldata/gbm_test/BostonHousing.csv\")"
   ]
  },
  {
   "cell_type": "code",
   "execution_count": 4,
   "metadata": {
    "collapsed": false
   },
   "outputs": [
    {
     "data": {
      "text/html": [
       "<table>\n",
       "<thead>\n",
       "<tr><th style=\"text-align: right;\">   crim</th><th style=\"text-align: right;\">  zn</th><th style=\"text-align: right;\">  indus</th><th style=\"text-align: right;\">  chas</th><th style=\"text-align: right;\">  nox</th><th style=\"text-align: right;\">   rm</th><th style=\"text-align: right;\">  age</th><th style=\"text-align: right;\">   dis</th><th style=\"text-align: right;\">  rad</th><th style=\"text-align: right;\">  tax</th><th style=\"text-align: right;\">  ptratio</th><th style=\"text-align: right;\">     b</th><th style=\"text-align: right;\">  lstat</th><th style=\"text-align: right;\">  medv</th></tr>\n",
       "</thead>\n",
       "<tbody>\n",
       "<tr><td style=\"text-align: right;\">0.00632</td><td style=\"text-align: right;\">18  </td><td style=\"text-align: right;\">   2.31</td><td style=\"text-align: right;\">     0</td><td style=\"text-align: right;\">0.538</td><td style=\"text-align: right;\">6.575</td><td style=\"text-align: right;\"> 65.2</td><td style=\"text-align: right;\">4.09  </td><td style=\"text-align: right;\">    1</td><td style=\"text-align: right;\">  296</td><td style=\"text-align: right;\">     15.3</td><td style=\"text-align: right;\">396.9 </td><td style=\"text-align: right;\">   4.98</td><td style=\"text-align: right;\">  24  </td></tr>\n",
       "<tr><td style=\"text-align: right;\">0.02731</td><td style=\"text-align: right;\"> 0  </td><td style=\"text-align: right;\">   7.07</td><td style=\"text-align: right;\">     0</td><td style=\"text-align: right;\">0.469</td><td style=\"text-align: right;\">6.421</td><td style=\"text-align: right;\"> 78.9</td><td style=\"text-align: right;\">4.9671</td><td style=\"text-align: right;\">    2</td><td style=\"text-align: right;\">  242</td><td style=\"text-align: right;\">     17.8</td><td style=\"text-align: right;\">396.9 </td><td style=\"text-align: right;\">   9.14</td><td style=\"text-align: right;\">  21.6</td></tr>\n",
       "<tr><td style=\"text-align: right;\">0.02729</td><td style=\"text-align: right;\"> 0  </td><td style=\"text-align: right;\">   7.07</td><td style=\"text-align: right;\">     0</td><td style=\"text-align: right;\">0.469</td><td style=\"text-align: right;\">7.185</td><td style=\"text-align: right;\"> 61.1</td><td style=\"text-align: right;\">4.9671</td><td style=\"text-align: right;\">    2</td><td style=\"text-align: right;\">  242</td><td style=\"text-align: right;\">     17.8</td><td style=\"text-align: right;\">392.83</td><td style=\"text-align: right;\">   4.03</td><td style=\"text-align: right;\">  34.7</td></tr>\n",
       "<tr><td style=\"text-align: right;\">0.03237</td><td style=\"text-align: right;\"> 0  </td><td style=\"text-align: right;\">   2.18</td><td style=\"text-align: right;\">     0</td><td style=\"text-align: right;\">0.458</td><td style=\"text-align: right;\">6.998</td><td style=\"text-align: right;\"> 45.8</td><td style=\"text-align: right;\">6.0622</td><td style=\"text-align: right;\">    3</td><td style=\"text-align: right;\">  222</td><td style=\"text-align: right;\">     18.7</td><td style=\"text-align: right;\">394.63</td><td style=\"text-align: right;\">   2.94</td><td style=\"text-align: right;\">  33.4</td></tr>\n",
       "<tr><td style=\"text-align: right;\">0.06905</td><td style=\"text-align: right;\"> 0  </td><td style=\"text-align: right;\">   2.18</td><td style=\"text-align: right;\">     0</td><td style=\"text-align: right;\">0.458</td><td style=\"text-align: right;\">7.147</td><td style=\"text-align: right;\"> 54.2</td><td style=\"text-align: right;\">6.0622</td><td style=\"text-align: right;\">    3</td><td style=\"text-align: right;\">  222</td><td style=\"text-align: right;\">     18.7</td><td style=\"text-align: right;\">396.9 </td><td style=\"text-align: right;\">   5.33</td><td style=\"text-align: right;\">  36.2</td></tr>\n",
       "<tr><td style=\"text-align: right;\">0.02985</td><td style=\"text-align: right;\"> 0  </td><td style=\"text-align: right;\">   2.18</td><td style=\"text-align: right;\">     0</td><td style=\"text-align: right;\">0.458</td><td style=\"text-align: right;\">6.43 </td><td style=\"text-align: right;\"> 58.7</td><td style=\"text-align: right;\">6.0622</td><td style=\"text-align: right;\">    3</td><td style=\"text-align: right;\">  222</td><td style=\"text-align: right;\">     18.7</td><td style=\"text-align: right;\">394.12</td><td style=\"text-align: right;\">   5.21</td><td style=\"text-align: right;\">  28.7</td></tr>\n",
       "<tr><td style=\"text-align: right;\">0.08829</td><td style=\"text-align: right;\">12.5</td><td style=\"text-align: right;\">   7.87</td><td style=\"text-align: right;\">     0</td><td style=\"text-align: right;\">0.524</td><td style=\"text-align: right;\">6.012</td><td style=\"text-align: right;\"> 66.6</td><td style=\"text-align: right;\">5.5605</td><td style=\"text-align: right;\">    5</td><td style=\"text-align: right;\">  311</td><td style=\"text-align: right;\">     15.2</td><td style=\"text-align: right;\">395.6 </td><td style=\"text-align: right;\">  12.43</td><td style=\"text-align: right;\">  22.9</td></tr>\n",
       "<tr><td style=\"text-align: right;\">0.14455</td><td style=\"text-align: right;\">12.5</td><td style=\"text-align: right;\">   7.87</td><td style=\"text-align: right;\">     0</td><td style=\"text-align: right;\">0.524</td><td style=\"text-align: right;\">6.172</td><td style=\"text-align: right;\"> 96.1</td><td style=\"text-align: right;\">5.9505</td><td style=\"text-align: right;\">    5</td><td style=\"text-align: right;\">  311</td><td style=\"text-align: right;\">     15.2</td><td style=\"text-align: right;\">396.9 </td><td style=\"text-align: right;\">  19.15</td><td style=\"text-align: right;\">  27.1</td></tr>\n",
       "<tr><td style=\"text-align: right;\">0.21124</td><td style=\"text-align: right;\">12.5</td><td style=\"text-align: right;\">   7.87</td><td style=\"text-align: right;\">     0</td><td style=\"text-align: right;\">0.524</td><td style=\"text-align: right;\">5.631</td><td style=\"text-align: right;\">100  </td><td style=\"text-align: right;\">6.0821</td><td style=\"text-align: right;\">    5</td><td style=\"text-align: right;\">  311</td><td style=\"text-align: right;\">     15.2</td><td style=\"text-align: right;\">386.63</td><td style=\"text-align: right;\">  29.93</td><td style=\"text-align: right;\">  16.5</td></tr>\n",
       "<tr><td style=\"text-align: right;\">0.17004</td><td style=\"text-align: right;\">12.5</td><td style=\"text-align: right;\">   7.87</td><td style=\"text-align: right;\">     0</td><td style=\"text-align: right;\">0.524</td><td style=\"text-align: right;\">6.004</td><td style=\"text-align: right;\"> 85.9</td><td style=\"text-align: right;\">6.5921</td><td style=\"text-align: right;\">    5</td><td style=\"text-align: right;\">  311</td><td style=\"text-align: right;\">     15.2</td><td style=\"text-align: right;\">386.71</td><td style=\"text-align: right;\">  17.1 </td><td style=\"text-align: right;\">  18.9</td></tr>\n",
       "</tbody>\n",
       "</table>"
      ]
     },
     "metadata": {},
     "output_type": "display_data"
    },
    {
     "data": {
      "text/plain": [
       "<bound method H2OFrame.head of >"
      ]
     },
     "execution_count": 4,
     "metadata": {},
     "output_type": "execute_result"
    }
   ],
   "source": [
    "boston_data.head"
   ]
  },
  {
   "cell_type": "markdown",
   "metadata": {},
   "source": [
    "## Default GBM"
   ]
  },
  {
   "cell_type": "code",
   "execution_count": 5,
   "metadata": {
    "collapsed": false
   },
   "outputs": [],
   "source": [
    "response = str(boston_data.names[-1])\n",
    "features = [str(x) for x in boston_data.names[0:13]]"
   ]
  },
  {
   "cell_type": "code",
   "execution_count": 6,
   "metadata": {
    "collapsed": false
   },
   "outputs": [
    {
     "name": "stdout",
     "output_type": "stream",
     "text": [
      "gbm Model Build progress: |███████████████████████████████████████████████| 100%\n"
     ]
    }
   ],
   "source": [
    "from h2o.estimators.gbm import H2OGradientBoostingEstimator\n",
    "\n",
    "gbm_default = H2OGradientBoostingEstimator(model_id = 'gbm_default', \n",
    "                                           seed = 1234)\n",
    "\n",
    "gbm_default.train(x = features, \n",
    "                  y = response, \n",
    "                  training_frame = boston_data)"
   ]
  },
  {
   "cell_type": "code",
   "execution_count": 7,
   "metadata": {
    "collapsed": false
   },
   "outputs": [
    {
     "name": "stdout",
     "output_type": "stream",
     "text": [
      "\n",
      "ModelMetricsRegression: gbm\n",
      "** Reported on test data. **\n",
      "\n",
      "MSE: 2.94238551772\n",
      "RMSE: 1.71533830999\n",
      "MAE: 1.20988457472\n",
      "RMSLE: 0.080945561612\n",
      "Mean Residual Deviance: 2.94238551772\n"
     ]
    },
    {
     "data": {
      "text/plain": []
     },
     "execution_count": 7,
     "metadata": {},
     "output_type": "execute_result"
    }
   ],
   "source": [
    "gbm_default.model_performance(boston_data)"
   ]
  },
  {
   "cell_type": "markdown",
   "metadata": {},
   "source": [
    "## GBM with Manual Cross Validation"
   ]
  },
  {
   "cell_type": "code",
   "execution_count": 8,
   "metadata": {
    "collapsed": false
   },
   "outputs": [
    {
     "name": "stdout",
     "output_type": "stream",
     "text": [
      "gbm Model Build progress: |███████████████████████████████████████████████| 100%\n"
     ]
    }
   ],
   "source": [
    "# Build a GBM with manual settings and cross validation\n",
    "gbm_manual_cv = H2OGradientBoostingEstimator(model_id = 'gbm_manual_cv', \n",
    "                                             seed = 1234,\n",
    "                                             ntrees = 100,\n",
    "                                             sample_rate = 0.9,\n",
    "                                             col_sample_rate = 0.9,\n",
    "                                             nfolds = 5)\n",
    "                                            \n",
    "gbm_manual_cv.train(x = features, \n",
    "                    y = response, \n",
    "                    training_frame = boston_data)"
   ]
  },
  {
   "cell_type": "code",
   "execution_count": 9,
   "metadata": {
    "collapsed": false,
    "scrolled": true
   },
   "outputs": [
    {
     "name": "stdout",
     "output_type": "stream",
     "text": [
      "Model Details\n",
      "=============\n",
      "H2OGradientBoostingEstimator :  Gradient Boosting Machine\n",
      "Model Key:  gbm_manual_cv\n",
      "\n",
      "\n",
      "ModelMetricsRegression: gbm\n",
      "** Reported on train data. **\n",
      "\n",
      "MSE: 1.62184091545\n",
      "RMSE: 1.27351518069\n",
      "MAE: 0.915035278901\n",
      "RMSLE: 0.0626214063461\n",
      "Mean Residual Deviance: 1.62184091545\n",
      "\n",
      "ModelMetricsRegression: gbm\n",
      "** Reported on cross-validation data. **\n",
      "\n",
      "MSE: 9.68245835085\n",
      "RMSE: 3.11166488409\n",
      "MAE: 2.10682873026\n",
      "RMSLE: 0.143431672337\n",
      "Mean Residual Deviance: 9.68245835085\n",
      "Cross-Validation Metrics Summary: \n"
     ]
    },
    {
     "data": {
      "text/html": [
       "<div style=\"overflow:auto\"><table style=\"width:50%\"><tr><td><b></b></td>\n",
       "<td><b>mean</b></td>\n",
       "<td><b>sd</b></td>\n",
       "<td><b>cv_1_valid</b></td>\n",
       "<td><b>cv_2_valid</b></td>\n",
       "<td><b>cv_3_valid</b></td>\n",
       "<td><b>cv_4_valid</b></td>\n",
       "<td><b>cv_5_valid</b></td></tr>\n",
       "<tr><td>mae</td>\n",
       "<td>2.1077552</td>\n",
       "<td>0.0988426</td>\n",
       "<td>2.1354003</td>\n",
       "<td>1.8475796</td>\n",
       "<td>2.09966</td>\n",
       "<td>2.2174108</td>\n",
       "<td>2.2387254</td></tr>\n",
       "<tr><td>mean_residual_deviance</td>\n",
       "<td>9.7021475</td>\n",
       "<td>1.5794705</td>\n",
       "<td>8.983502</td>\n",
       "<td>5.742834</td>\n",
       "<td>11.1885</td>\n",
       "<td>12.150076</td>\n",
       "<td>10.4458275</td></tr>\n",
       "<tr><td>mse</td>\n",
       "<td>9.7021475</td>\n",
       "<td>1.5794705</td>\n",
       "<td>8.983502</td>\n",
       "<td>5.742834</td>\n",
       "<td>11.1885</td>\n",
       "<td>12.150076</td>\n",
       "<td>10.4458275</td></tr>\n",
       "<tr><td>r2</td>\n",
       "<td>0.8844405</td>\n",
       "<td>0.0188984</td>\n",
       "<td>0.9126117</td>\n",
       "<td>0.9213600</td>\n",
       "<td>0.8636847</td>\n",
       "<td>0.8614832</td>\n",
       "<td>0.8630633</td></tr>\n",
       "<tr><td>residual_deviance</td>\n",
       "<td>9.7021475</td>\n",
       "<td>1.5794705</td>\n",
       "<td>8.983502</td>\n",
       "<td>5.742834</td>\n",
       "<td>11.1885</td>\n",
       "<td>12.150076</td>\n",
       "<td>10.4458275</td></tr>\n",
       "<tr><td>rmse</td>\n",
       "<td>3.0912576</td>\n",
       "<td>0.2704387</td>\n",
       "<td>2.9972491</td>\n",
       "<td>2.3964212</td>\n",
       "<td>3.3449216</td>\n",
       "<td>3.4856958</td>\n",
       "<td>3.2320006</td></tr>\n",
       "<tr><td>rmsle</td>\n",
       "<td>0.1420960</td>\n",
       "<td>0.0156690</td>\n",
       "<td>0.1539993</td>\n",
       "<td>0.1103884</td>\n",
       "<td>0.1344691</td>\n",
       "<td>0.1767126</td>\n",
       "<td>0.1349108</td></tr></table></div>"
      ],
      "text/plain": [
       "                        mean      sd         cv_1_valid    cv_2_valid    cv_3_valid    cv_4_valid    cv_5_valid\n",
       "----------------------  --------  ---------  ------------  ------------  ------------  ------------  ------------\n",
       "mae                     2.10776   0.0988426  2.1354        1.84758       2.09966       2.21741       2.23873\n",
       "mean_residual_deviance  9.70215   1.57947    8.9835        5.74283       11.1885       12.1501       10.4458\n",
       "mse                     9.70215   1.57947    8.9835        5.74283       11.1885       12.1501       10.4458\n",
       "r2                      0.884441  0.0188984  0.912612      0.92136       0.863685      0.861483      0.863063\n",
       "residual_deviance       9.70215   1.57947    8.9835        5.74283       11.1885       12.1501       10.4458\n",
       "rmse                    3.09126   0.270439   2.99725       2.39642       3.34492       3.4857        3.232\n",
       "rmsle                   0.142096  0.015669   0.153999      0.110388      0.134469      0.176713      0.134911"
      ]
     },
     "metadata": {},
     "output_type": "display_data"
    },
    {
     "name": "stdout",
     "output_type": "stream",
     "text": [
      "Scoring History: \n"
     ]
    },
    {
     "data": {
      "text/html": [
       "<div style=\"overflow:auto\"><table style=\"width:50%\"><tr><td><b></b></td>\n",
       "<td><b>timestamp</b></td>\n",
       "<td><b>duration</b></td>\n",
       "<td><b>number_of_trees</b></td>\n",
       "<td><b>training_rmse</b></td>\n",
       "<td><b>training_mae</b></td>\n",
       "<td><b>training_deviance</b></td></tr>\n",
       "<tr><td></td>\n",
       "<td>2017-08-15 12:39:31</td>\n",
       "<td> 1.037 sec</td>\n",
       "<td>0.0</td>\n",
       "<td>9.1880116</td>\n",
       "<td>6.6472074</td>\n",
       "<td>84.4195565</td></tr>\n",
       "<tr><td></td>\n",
       "<td>2017-08-15 12:39:31</td>\n",
       "<td> 1.041 sec</td>\n",
       "<td>1.0</td>\n",
       "<td>8.4315038</td>\n",
       "<td>6.1072998</td>\n",
       "<td>71.0902566</td></tr>\n",
       "<tr><td></td>\n",
       "<td>2017-08-15 12:39:31</td>\n",
       "<td> 1.044 sec</td>\n",
       "<td>2.0</td>\n",
       "<td>7.7557877</td>\n",
       "<td>5.6170229</td>\n",
       "<td>60.1522428</td></tr>\n",
       "<tr><td></td>\n",
       "<td>2017-08-15 12:39:31</td>\n",
       "<td> 1.046 sec</td>\n",
       "<td>3.0</td>\n",
       "<td>7.1567843</td>\n",
       "<td>5.1821106</td>\n",
       "<td>51.2195620</td></tr>\n",
       "<tr><td></td>\n",
       "<td>2017-08-15 12:39:31</td>\n",
       "<td> 1.048 sec</td>\n",
       "<td>4.0</td>\n",
       "<td>6.6222758</td>\n",
       "<td>4.7974335</td>\n",
       "<td>43.8545367</td></tr>\n",
       "<tr><td>---</td>\n",
       "<td>---</td>\n",
       "<td>---</td>\n",
       "<td>---</td>\n",
       "<td>---</td>\n",
       "<td>---</td>\n",
       "<td>---</td></tr>\n",
       "<tr><td></td>\n",
       "<td>2017-08-15 12:39:31</td>\n",
       "<td> 1.293 sec</td>\n",
       "<td>96.0</td>\n",
       "<td>1.3025699</td>\n",
       "<td>0.9353475</td>\n",
       "<td>1.6966884</td></tr>\n",
       "<tr><td></td>\n",
       "<td>2017-08-15 12:39:31</td>\n",
       "<td> 1.295 sec</td>\n",
       "<td>97.0</td>\n",
       "<td>1.2981069</td>\n",
       "<td>0.9327798</td>\n",
       "<td>1.6850815</td></tr>\n",
       "<tr><td></td>\n",
       "<td>2017-08-15 12:39:31</td>\n",
       "<td> 1.298 sec</td>\n",
       "<td>98.0</td>\n",
       "<td>1.2893704</td>\n",
       "<td>0.9256475</td>\n",
       "<td>1.6624760</td></tr>\n",
       "<tr><td></td>\n",
       "<td>2017-08-15 12:39:31</td>\n",
       "<td> 1.300 sec</td>\n",
       "<td>99.0</td>\n",
       "<td>1.2804204</td>\n",
       "<td>0.9176468</td>\n",
       "<td>1.6394764</td></tr>\n",
       "<tr><td></td>\n",
       "<td>2017-08-15 12:39:31</td>\n",
       "<td> 1.303 sec</td>\n",
       "<td>100.0</td>\n",
       "<td>1.2735152</td>\n",
       "<td>0.9150353</td>\n",
       "<td>1.6218409</td></tr></table></div>"
      ],
      "text/plain": [
       "     timestamp            duration    number_of_trees    training_rmse    training_mae    training_deviance\n",
       "---  -------------------  ----------  -----------------  ---------------  --------------  -------------------\n",
       "     2017-08-15 12:39:31  1.037 sec   0.0                9.18801156577    6.64720743979   84.4195565327\n",
       "     2017-08-15 12:39:31  1.041 sec   1.0                8.43150381892    6.10729976322   71.0902566485\n",
       "     2017-08-15 12:39:31  1.044 sec   2.0                7.7557876947     5.61702292145   60.1522427652\n",
       "     2017-08-15 12:39:31  1.046 sec   3.0                7.15678433185    5.18211058666   51.2195619726\n",
       "     2017-08-15 12:39:31  1.048 sec   4.0                6.62227579161    4.79743351013   43.8545366601\n",
       "---  ---                  ---         ---                ---              ---             ---\n",
       "     2017-08-15 12:39:31  1.293 sec   96.0               1.30256991202    0.93534747037   1.69668837569\n",
       "     2017-08-15 12:39:31  1.295 sec   97.0               1.29810688547    0.932779758815  1.68508148612\n",
       "     2017-08-15 12:39:31  1.298 sec   98.0               1.289370386      0.925647466079  1.6624759923\n",
       "     2017-08-15 12:39:31  1.300 sec   99.0               1.28042041334    0.917646781258  1.6394764349\n",
       "     2017-08-15 12:39:31  1.303 sec   100.0              1.27351518069    0.915035278901  1.62184091545"
      ]
     },
     "metadata": {},
     "output_type": "display_data"
    },
    {
     "name": "stdout",
     "output_type": "stream",
     "text": [
      "\n",
      "See the whole table with table.as_data_frame()\n",
      "Variable Importances: \n"
     ]
    },
    {
     "data": {
      "text/html": [
       "<div style=\"overflow:auto\"><table style=\"width:50%\"><tr><td><b>variable</b></td>\n",
       "<td><b>relative_importance</b></td>\n",
       "<td><b>scaled_importance</b></td>\n",
       "<td><b>percentage</b></td></tr>\n",
       "<tr><td>rm</td>\n",
       "<td>92194.5312500</td>\n",
       "<td>1.0</td>\n",
       "<td>0.4329475</td></tr>\n",
       "<tr><td>lstat</td>\n",
       "<td>77640.5234375</td>\n",
       "<td>0.8421381</td>\n",
       "<td>0.3646016</td></tr>\n",
       "<tr><td>dis</td>\n",
       "<td>9081.6787109</td>\n",
       "<td>0.0985056</td>\n",
       "<td>0.0426478</td></tr>\n",
       "<tr><td>nox</td>\n",
       "<td>8091.0268555</td>\n",
       "<td>0.0877604</td>\n",
       "<td>0.0379956</td></tr>\n",
       "<tr><td>crim</td>\n",
       "<td>6473.8496094</td>\n",
       "<td>0.0702195</td>\n",
       "<td>0.0304013</td></tr>\n",
       "<tr><td>age</td>\n",
       "<td>6391.3251953</td>\n",
       "<td>0.0693243</td>\n",
       "<td>0.0300138</td></tr>\n",
       "<tr><td>ptratio</td>\n",
       "<td>3893.0029297</td>\n",
       "<td>0.0422260</td>\n",
       "<td>0.0182816</td></tr>\n",
       "<tr><td>indus</td>\n",
       "<td>3367.7416992</td>\n",
       "<td>0.0365286</td>\n",
       "<td>0.0158150</td></tr>\n",
       "<tr><td>tax</td>\n",
       "<td>2713.4658203</td>\n",
       "<td>0.0294320</td>\n",
       "<td>0.0127425</td></tr>\n",
       "<tr><td>b</td>\n",
       "<td>1875.7456055</td>\n",
       "<td>0.0203455</td>\n",
       "<td>0.0088085</td></tr>\n",
       "<tr><td>rad</td>\n",
       "<td>754.3303223</td>\n",
       "<td>0.0081819</td>\n",
       "<td>0.0035424</td></tr>\n",
       "<tr><td>zn</td>\n",
       "<td>412.3564758</td>\n",
       "<td>0.0044727</td>\n",
       "<td>0.0019364</td></tr>\n",
       "<tr><td>chas</td>\n",
       "<td>56.6293449</td>\n",
       "<td>0.0006142</td>\n",
       "<td>0.0002659</td></tr></table></div>"
      ],
      "text/plain": [
       "variable    relative_importance    scaled_importance    percentage\n",
       "----------  ---------------------  -------------------  ------------\n",
       "rm          92194.5                1                    0.432948\n",
       "lstat       77640.5                0.842138             0.364602\n",
       "dis         9081.68                0.0985056            0.0426478\n",
       "nox         8091.03                0.0877604            0.0379956\n",
       "crim        6473.85                0.0702195            0.0304013\n",
       "age         6391.33                0.0693243            0.0300138\n",
       "ptratio     3893                   0.042226             0.0182816\n",
       "indus       3367.74                0.0365286            0.015815\n",
       "tax         2713.47                0.029432             0.0127425\n",
       "b           1875.75                0.0203455            0.00880854\n",
       "rad         754.33                 0.00818194           0.00354235\n",
       "zn          412.356                0.00447268           0.00193643\n",
       "chas        56.6293                0.000614238          0.000265933"
      ]
     },
     "metadata": {},
     "output_type": "display_data"
    },
    {
     "data": {
      "text/plain": []
     },
     "execution_count": 9,
     "metadata": {},
     "output_type": "execute_result"
    }
   ],
   "source": [
    "# Check the cross validation model performance\n",
    "gbm_manual_cv"
   ]
  },
  {
   "cell_type": "markdown",
   "metadata": {},
   "source": [
    "## GBM with hyperparameters tuned by `scikit-optimize`"
   ]
  },
  {
   "cell_type": "code",
   "execution_count": 11,
   "metadata": {
    "collapsed": true
   },
   "outputs": [],
   "source": [
    "# Show no progress bar\n",
    "h2o.no_progress()"
   ]
  },
  {
   "cell_type": "code",
   "execution_count": 12,
   "metadata": {
    "collapsed": true
   },
   "outputs": [],
   "source": [
    "def objective(params):\n",
    "    # Ensure right parameters to be tuned\n",
    "    max_depth, learn_rate, min_rows = params\n",
    "\n",
    "    # Create such model with given hyperparameters\n",
    "    gbm_skopt_cv = H2OGradientBoostingEstimator(model_id = 'gbm_manual_cv',\n",
    "                                                seed = 1234,\n",
    "                                                ntrees = 100,\n",
    "                                                sample_rate = 0.9,\n",
    "                                                col_sample_rate = 0.9,\n",
    "                                                nfolds = 5,\n",
    "                                                max_depth = max_depth,\n",
    "                                                learn_rate = learn_rate,\n",
    "                                                min_rows = min_rows)\n",
    "\n",
    "    # Build the gradient boosting regression model\n",
    "    gbm_skopt_cv.train(x = features,\n",
    "                       y = response,\n",
    "                       training_frame = boston_data)\n",
    "\n",
    "    # Return specific optimization matric value\n",
    "    # Here: cross validation mean absolute error\n",
    "    return gbm_skopt_cv.cross_validation_metrics_summary().as_data_frame().iloc[[0]]['mean'].as_matrix().astype(float).item()"
   ]
  },
  {
   "cell_type": "code",
   "execution_count": 13,
   "metadata": {
    "collapsed": false
   },
   "outputs": [
    {
     "data": {
      "text/plain": [
       "2.608365"
      ]
     },
     "execution_count": 13,
     "metadata": {},
     "output_type": "execute_result"
    }
   ],
   "source": [
    "# Test if our objective function performs well\n",
    "objective((5, 0.1, 50))"
   ]
  },
  {
   "cell_type": "code",
   "execution_count": 14,
   "metadata": {
    "collapsed": true
   },
   "outputs": [],
   "source": [
    "# Set hyperparameter search space\n",
    "space  = [(1, 5),                           # max_depth\n",
    "          (10**-5, 10**0, \"log-uniform\"),   # learn_rate\n",
    "          (1, 100)]                         # min_row"
   ]
  },
  {
   "cell_type": "markdown",
   "metadata": {},
   "source": [
    "Default of `skopt` uses `cl_min`, constant liar (min) parallel strategy. Acquisition function is chosen to be `EI` and uses the `L-BFGS` method on the likelihood objective. We print out the best score and parameter setting of optimizing the Mean Absolute Error of this 5-fold Cross Validation."
   ]
  },
  {
   "cell_type": "code",
   "execution_count": 15,
   "metadata": {
    "collapsed": false
   },
   "outputs": [
    {
     "data": {
      "text/plain": [
       "'Best score=1.9559'"
      ]
     },
     "execution_count": 15,
     "metadata": {},
     "output_type": "execute_result"
    }
   ],
   "source": [
    "from skopt import gp_minimize\n",
    "\n",
    "res_gp = gp_minimize(objective, space, n_calls=100, random_state=0,\n",
    "                     acq_func=\"EI\", acq_optimizer=\"lbfgs\")\n",
    "\n",
    "\"Best score=%.4f\" % res_gp.fun"
   ]
  },
  {
   "cell_type": "code",
   "execution_count": 16,
   "metadata": {
    "collapsed": false
   },
   "outputs": [
    {
     "name": "stdout",
     "output_type": "stream",
     "text": [
      "Best parameters:\n",
      "- max_depth=4\n",
      "- learn_rate=0.083958\n",
      "- min_rows=1\n"
     ]
    }
   ],
   "source": [
    "print(\"\"\"Best parameters:\n",
    "- max_depth=%d\n",
    "- learn_rate=%.6f\n",
    "- min_rows=%d\"\"\" % (res_gp.x[0], res_gp.x[1], \n",
    "                    res_gp.x[2]))"
   ]
  },
  {
   "cell_type": "markdown",
   "metadata": {},
   "source": [
    "Very same setting of PI gives \"Best score=2.0034\"."
   ]
  },
  {
   "cell_type": "markdown",
   "metadata": {},
   "source": [
    "## Draw Convergence Plot"
   ]
  },
  {
   "cell_type": "code",
   "execution_count": 17,
   "metadata": {
    "collapsed": false
   },
   "outputs": [
    {
     "data": {
      "image/png": "[encoded data removed]",
      "text/plain": [
       "<matplotlib.figure.Figure at 0x116a435d0>"
      ]
     },
     "metadata": {},
     "output_type": "display_data"
    }
   ],
   "source": [
    "%matplotlib inline\n",
    "import matplotlib.pyplot as plt\n",
    "from skopt.plots import plot_convergence\n",
    "\n",
    "plot_convergence(res_gp);"
   ]
  },
  {
   "cell_type": "code",
   "execution_count": 3,
   "metadata": {
    "collapsed": false
   },
   "outputs": [
    {
     "name": "stdout",
     "output_type": "stream",
     "text": [
      "H2O session _sid_bba9 closed.\n"
     ]
    }
   ],
   "source": [
    "h2o.cluster().shutdown()"
   ]
  },
  {
   "cell_type": "code",
   "execution_count": null,
   "metadata": {
    "collapsed": true
   },
   "outputs": [],
   "source": []
  }
 ],
 "metadata": {
  "kernelspec": {
   "display_name": "Python 2",
   "language": "python",
   "name": "python2"
  },
  "language_info": {
   "codemirror_mode": {
    "name": "ipython",
    "version": 2
   },
   "file_extension": ".py",
   "mimetype": "text/x-python",
   "name": "python",
   "nbconvert_exporter": "python",
   "pygments_lexer": "ipython2",
   "version": "2.7.13"
  }
 },
 "nbformat": 4,
 "nbformat_minor": 2
}
